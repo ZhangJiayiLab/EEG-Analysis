{
 "cells": [
  {
   "cell_type": "markdown",
   "metadata": {},
   "source": [
    "table:\n",
    "- channel\n",
    "- probelayout\n",
    "- latency\n",
    "- entrain"
   ]
  },
  {
   "cell_type": "code",
   "execution_count": 2,
   "metadata": {},
   "outputs": [],
   "source": [
    "%matplotlib inline\n",
    "import os\n",
    "import pandas as pd\n",
    "from scipy.io import loadmat\n",
    "import numpy as np\n",
    "import matplotlib.pyplot as plt\n",
    "import seaborn as sns\n",
    "\n",
    "def getProbeLayout(patientName, datadir=\"../../Data\"):\n",
    "    layoutfile = os.path.join(datadir, patientName, \"EEG\", \"Layout\", patientName+'-layout.csv')\n",
    "    csv = pd.read_csv(layoutfile)\n",
    "    \n",
    "    return csv"
   ]
  },
  {
   "cell_type": "code",
   "execution_count": 3,
   "metadata": {},
   "outputs": [
    {
     "data": {
      "text/html": [
       "<div>\n",
       "<style scoped>\n",
       "    .dataframe tbody tr th:only-of-type {\n",
       "        vertical-align: middle;\n",
       "    }\n",
       "\n",
       "    .dataframe tbody tr th {\n",
       "        vertical-align: top;\n",
       "    }\n",
       "\n",
       "    .dataframe thead th {\n",
       "        text-align: right;\n",
       "    }\n",
       "</style>\n",
       "<table border=\"1\" class=\"dataframe\">\n",
       "  <thead>\n",
       "    <tr style=\"text-align: right;\">\n",
       "      <th></th>\n",
       "      <th>position</th>\n",
       "      <th>channel</th>\n",
       "    </tr>\n",
       "  </thead>\n",
       "  <tbody>\n",
       "    <tr>\n",
       "      <th>0</th>\n",
       "      <td>Amg amygdala</td>\n",
       "      <td>69</td>\n",
       "    </tr>\n",
       "    <tr>\n",
       "      <th>1</th>\n",
       "      <td>Amg amygdala</td>\n",
       "      <td>70</td>\n",
       "    </tr>\n",
       "    <tr>\n",
       "      <th>2</th>\n",
       "      <td>Amg amygdala</td>\n",
       "      <td>71</td>\n",
       "    </tr>\n",
       "    <tr>\n",
       "      <th>3</th>\n",
       "      <td>Amg amygdala</td>\n",
       "      <td>72</td>\n",
       "    </tr>\n",
       "    <tr>\n",
       "      <th>4</th>\n",
       "      <td>Cerebellum</td>\n",
       "      <td>43</td>\n",
       "    </tr>\n",
       "  </tbody>\n",
       "</table>\n",
       "</div>"
      ],
      "text/plain": [
       "       position  channel\n",
       "0  Amg amygdala       69\n",
       "1  Amg amygdala       70\n",
       "2  Amg amygdala       71\n",
       "3  Amg amygdala       72\n",
       "4    Cerebellum       43"
      ]
     },
     "execution_count": 3,
     "metadata": {},
     "output_type": "execute_result"
    }
   ],
   "source": [
    "result = getProbeLayout('Chen Zhou')\n",
    "result.head()"
   ]
  },
  {
   "cell_type": "markdown",
   "metadata": {},
   "source": [
    "# processed validation"
   ]
  },
  {
   "cell_type": "code",
   "execution_count": 34,
   "metadata": {},
   "outputs": [],
   "source": [
    "import json\n",
    "import os"
   ]
  },
  {
   "cell_type": "code",
   "execution_count": null,
   "metadata": {},
   "outputs": [],
   "source": [
    "def getprocessedfiles(resultdir, patientName):\n",
    "    if os.path.isfile(os.path.join(resultdir, patientName, \"processed.json\")):\n",
    "        with open(os.path.join(resultdir, patientName, \"processed.json\"), 'r') as plist:\n",
    "            processedfiles = json.loads(plist.read())\n",
    "        return processedfiles\n",
    "    else:\n",
    "        with open(os.path.join(resultdir, patientName, \"processed.json\"), 'w') as plist:\n",
    "            plist.write(\"{\\\"processed\\\":[]}\")\n",
    "        return {\"processed\":[]}\n",
    "    \n",
    "def writeprocessedfile(resultdir, patientName, filename):\n",
    "    processedfiles = getprocessedfiles(resultdir, patientName)\n",
    "    if filename in processedfiles:\n",
    "        pass\n",
    "    else:\n",
    "        processedfiles['processed'].append(filename)\n",
    "        with open(os.path.join(resultdir, patientName, \"processed.json\"), 'w') as plist:\n",
    "            plist.write(json.dumps(processedfiles))\n",
    "        return "
   ]
  },
  {
   "cell_type": "code",
   "execution_count": 44,
   "metadata": {},
   "outputs": [],
   "source": [
    "resultdir = \"../../Result\"\n",
    "patientName = \"Chen Zhou\"\n",
    "\n",
    "with open(os.path.join(resultdir, patientName, \"processed.json\"), 'r') as plist:\n",
    "    processedfiles = json.loads(plist.read())\n",
    "    \n",
    "processedfiles['processed'].append(\"180901-2-5\")\n",
    "with open(os.path.join(resultdir, patientName, \"processed.json\"), 'w') as plist:\n",
    "    plist.write(json.dumps(processedfiles))"
   ]
  },
  {
   "cell_type": "code",
   "execution_count": 45,
   "metadata": {},
   "outputs": [
    {
     "data": {
      "text/plain": [
       "{'processed': ['180831-1-5', '180901-1-5', '180901-2-5']}"
      ]
     },
     "execution_count": 45,
     "metadata": {},
     "output_type": "execute_result"
    }
   ],
   "source": [
    "with open(os.path.join(resultdir, patientName, \"processed.json\"), 'r') as plist:\n",
    "    processedfiles = json.loads(plist.read())\n",
    "processedfiles"
   ]
  },
  {
   "cell_type": "code",
   "execution_count": null,
   "metadata": {},
   "outputs": [],
   "source": []
  }
 ],
 "metadata": {
  "kernelspec": {
   "display_name": "Python 3",
   "language": "python",
   "name": "python3"
  },
  "language_info": {
   "codemirror_mode": {
    "name": "ipython",
    "version": 3
   },
   "file_extension": ".py",
   "mimetype": "text/x-python",
   "name": "python",
   "nbconvert_exporter": "python",
   "pygments_lexer": "ipython3",
   "version": "3.7.0"
  }
 },
 "nbformat": 4,
 "nbformat_minor": 2
}
