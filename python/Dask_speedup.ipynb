{
 "cells": [
  {
   "cell_type": "code",
   "execution_count": 3,
   "metadata": {},
   "outputs": [],
   "source": [
    "%matplotlib inline\n",
    "import matplotlib.pyplot as plt\n",
    "import numpy as np\n",
    "import EEGAnalysis as ea\n",
    "\n",
    "import dask.array as da"
   ]
  },
  {
   "cell_type": "code",
   "execution_count": 4,
   "metadata": {},
   "outputs": [],
   "source": [
    "datadir = \"../../Data\"\n",
    "resultdir = \"../../Result\"\n",
    "patientName = \"Chen Zhou\"\n",
    "fs = 2000\n",
    "\n",
    "targetexp = \"180901-3-10\"\n",
    "\n",
    "datacontainer = ea.CompactDataContainer(\n",
    "    datadir, resultdir, patientName, \n",
    "    targetexp, fs, (-2, 10)\n",
    ")"
   ]
  },
  {
   "cell_type": "code",
   "execution_count": 94,
   "metadata": {},
   "outputs": [
    {
     "name": "stdout",
     "output_type": "stream",
     "text": [
      "CPU times: user 4.28 s, sys: 615 ms, total: 4.9 s\n",
      "Wall time: 4.92 s\n"
     ]
    }
   ],
   "source": [
    "chidx = 108\n",
    "ch_split = datacontainer.group_channel_by_marker(chidx, \"grating\")\n",
    "\n",
    "frange = np.logspace(np.log10(1), np.log10(200), 40)\n",
    "%time dwt_result = ea.dwt(ch_split, fs, frange, reflection=True)"
   ]
  },
  {
   "cell_type": "code",
   "execution_count": 108,
   "metadata": {},
   "outputs": [
    {
     "data": {
      "text/plain": [
       "(120, 24000)"
      ]
     },
     "execution_count": 108,
     "metadata": {},
     "output_type": "execute_result"
    }
   ],
   "source": [
    "ttsplit = np.vstack((ch_split, ch_split, ch_split, ch_split, ch_split, ch_split))\n",
    "np.shape(ttsplit)"
   ]
  },
  {
   "cell_type": "code",
   "execution_count": 109,
   "metadata": {},
   "outputs": [
    {
     "name": "stdout",
     "output_type": "stream",
     "text": [
      "CPU times: user 31.7 s, sys: 14.4 s, total: 46.1 s\n",
      "Wall time: 57.2 s\n"
     ]
    }
   ],
   "source": [
    "frange = np.logspace(np.log10(1), np.log10(200), 40)\n",
    "%time dwt_result = ea.dwt(ttsplit, fs, frange, reflection=True)"
   ]
  },
  {
   "cell_type": "code",
   "execution_count": 110,
   "metadata": {},
   "outputs": [
    {
     "name": "stdout",
     "output_type": "stream",
     "text": [
      "CPU times: user 2min 5s, sys: 14.4 s, total: 2min 20s\n",
      "Wall time: 53.2 s\n"
     ]
    }
   ],
   "source": [
    "frange = np.logspace(np.log10(1), np.log10(200), 40)\n",
    "%time dwt_result = da_dwt(ttsplit, fs, frange, reflection=True)"
   ]
  },
  {
   "cell_type": "code",
   "execution_count": 111,
   "metadata": {},
   "outputs": [],
   "source": [
    "## wavelet\n",
    "def da_morlet(F, fs):\n",
    "    \"\"\"Morlet wavelet\"\"\"\n",
    "    wtime = da.linspace(-1, 1, 2*fs, chunks=(2*fs,))\n",
    "    s = 6 / (2 * np.pi * F)\n",
    "    wavelet = da.exp(2*1j*np.pi*wtime*F) * da.exp(-wtime**2/(2*s**2))\n",
    "    return wavelet\n",
    "\n",
    "def da_dwt(data, fs, frange, wavelet=da_morlet, reflection=False):\n",
    "\n",
    "    dist_data = da.from_array(data, chunks=(1, np.size(data, 1)))\n",
    "\n",
    "    if np.ndim(dist_data) == 1:\n",
    "        dist_data = da.reshape(dist_data, (1, len(data)))\n",
    "\n",
    "    if reflection:\n",
    "        data_flip = da.fliplr(dist_data)\n",
    "        data_fft = da.hstack((data_flip, dist_data, data_flip))\n",
    "        data_fft = da.rechunk(data_fft, chunks=(1, np.size(data_fft, 1)))\n",
    "    else:\n",
    "        data_fft = dist_data\n",
    "\n",
    "    nConv = np.size(data_fft, -1) + int(2*fs)\n",
    "    fft_data = da.fft.fft(data_fft, nConv)\n",
    "\n",
    "    Dwt = np.zeros((np.size(frange), np.size(data, 0), np.size(data, 1)), dtype=\"complex\")\n",
    "\n",
    "    for idx, F in enumerate(frange):\n",
    "        fft_wavelet = da.fft.fft(wavelet(F, fs), nConv)\n",
    "        conv_wave = da.fft.ifft(fft_wavelet * fft_data, nConv)\n",
    "        conv_wave = conv_wave[:, fs:-fs]\n",
    "\n",
    "        if reflection:\n",
    "            Dwt[idx, :, :] = conv_wave[:, np.size(data, 1):-np.size(data, 1)].compute()\n",
    "        else:\n",
    "            Dwt[idx, :, :] = conv_wave.compute()\n",
    "\n",
    "    return Dwt"
   ]
  },
  {
   "cell_type": "code",
   "execution_count": null,
   "metadata": {},
   "outputs": [],
   "source": []
  }
 ],
 "metadata": {
  "kernelspec": {
   "display_name": "Python 3",
   "language": "python",
   "name": "python3"
  },
  "language_info": {
   "codemirror_mode": {
    "name": "ipython",
    "version": 3
   },
   "file_extension": ".py",
   "mimetype": "text/x-python",
   "name": "python",
   "nbconvert_exporter": "python",
   "pygments_lexer": "ipython3",
   "version": "3.7.0"
  }
 },
 "nbformat": 4,
 "nbformat_minor": 2
}
