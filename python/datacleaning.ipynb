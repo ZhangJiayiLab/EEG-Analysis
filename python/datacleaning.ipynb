{
 "cells": [
  {
   "cell_type": "code",
   "execution_count": 3,
   "metadata": {},
   "outputs": [],
   "source": [
    "# %matplotlib inline\n",
    "import h5py\n",
    "import matplotlib.pyplot as plt\n",
    "import numpy as np\n",
    "from scipy.io import savemat\n",
    "from tqdm import tqdm\n",
    "import os\n",
    "filename = \"../Data/0903-1-5-rawdata.mat\""
   ]
  },
  {
   "cell_type": "code",
   "execution_count": null,
   "metadata": {},
   "outputs": [],
   "source": [
    "f = h5py.File(filename, 'r')\n",
    "\n",
    "channels = np.zeros((len(f), len(f[\"Chan__1\"][\"times\"][0])))\n",
    "times = np.array(f[\"Chan__1\"][\"times\"])[0,:]\n",
    "cueonset = np.array(f[\"Memory\"][\"times\"])[0,:]\n",
    "\n",
    "for i in f.keys():\n",
    "    if i == \"Memory\" or i == \"file\":\n",
    "        continue\n",
    "    \n",
    "    idx = int(np.array(f[i][\"title\"], dtype=\"uint8\")[4:].tostring())\n",
    "    channels[idx-1, :] = np.array(f[i][\"values\"])[0,:]\n",
    "    print(idx)\n",
    "\n",
    "savemat(\"compact.mat\", {\"times\":times, \"cue_onset\":cueonset, \"channels\":channels})\n",
    "\n",
    "def previewChannel(chn, save=False):\n",
    "    plt.figure(figsize=(20,3))\n",
    "    plt.plot(times, channels[chn,:])\n",
    "    setoff = np.max(channels[chn,:])\n",
    "    plt.vlines(cueonset, setoff, setoff+100, colors = \"red\")\n",
    "    plt.xlim((0, np.max(times)))\n",
    "    plt.title(\"channel %d\"%chn)\n",
    "    \n",
    "    if save:\n",
    "        plt.savefig(\"preview/%d.png\"%chn)\n",
    "    else:\n",
    "        plt.show()\n",
    "\n",
    "nchn, nsample = np.shape(channels)\n",
    "\n",
    "for i in tqdm(range(nchn)):\n",
    "    previewChannel(i, save=True)"
   ]
  },
  {
   "cell_type": "code",
   "execution_count": 4,
   "metadata": {},
   "outputs": [
    {
     "data": {
      "text/plain": [
       "('../Data/0903-1-5-rawdata', '.mat')"
      ]
     },
     "execution_count": 4,
     "metadata": {},
     "output_type": "execute_result"
    }
   ],
   "source": [
    "os.path.splitext(filename)"
   ]
  },
  {
   "cell_type": "code",
   "execution_count": null,
   "metadata": {},
   "outputs": [],
   "source": [
    "os.mkdir()"
   ]
  }
 ],
 "metadata": {
  "kernelspec": {
   "display_name": "Python 3",
   "language": "python",
   "name": "python3"
  },
  "language_info": {
   "codemirror_mode": {
    "name": "ipython",
    "version": 3
   },
   "file_extension": ".py",
   "mimetype": "text/x-python",
   "name": "python",
   "nbconvert_exporter": "python",
   "pygments_lexer": "ipython3",
   "version": "3.7.0"
  }
 },
 "nbformat": 4,
 "nbformat_minor": 2
}
