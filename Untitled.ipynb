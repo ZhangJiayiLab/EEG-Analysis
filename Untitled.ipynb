{
 "cells": [
  {
   "cell_type": "code",
   "execution_count": 25,
   "metadata": {},
   "outputs": [
    {
     "data": {
      "text/plain": [
       "\"compact.mat\""
      ]
     },
     "execution_count": 25,
     "metadata": {},
     "output_type": "execute_result"
    }
   ],
   "source": [
    "using MAT\n",
    "using Plots\n",
    "\n",
    "# filename = \"../Data/0903-1-5-rawdata.mat\"\n",
    "filename = \"compact.mat\""
   ]
  },
  {
   "cell_type": "code",
   "execution_count": 29,
   "metadata": {},
   "outputs": [
    {
     "data": {
      "text/plain": [
       "125×235200 Array{Float64,2}:\n",
       "    0.0            0.0            0.0         …     0.0            0.0       \n",
       "  -59.4736       -58.9817       -58.3029           25.1964        24.9012    \n",
       "  -29.3002       -29.2029       -29.2029           16.211         14.8402    \n",
       "   10.8402        10.9369        11.1302            1.17224        0.87616   \n",
       "   -6.83566       -6.0536        -6.24968          30.5678        31.3476    \n",
       "   27.5394        27.1493        27.4434      …    -9.76385      -10.448     \n",
       "   88.3805        86.9127        82.3224          -31.5448       -32.9058    \n",
       "   28.8109        30.3708        25.4846          -49.1201       -52.0539    \n",
       "  -31.7388       -30.4763       -33.2091          -18.1707       -18.1707    \n",
       "  -16.601        -14.9393       -17.3839          -27.1464       -25.5806    \n",
       "   45.8016        48.1535        48.2485      …   -42.5708       -44.4238    \n",
       "  -10.7469        -7.02748       -4.49073         -17.5858       -15.3405    \n",
       " -124.991       -122.162       -121.19             64.6484        65.2386    \n",
       "    ⋮                                         ⋱                              \n",
       " -161.133       -143.555       -114.38           -359.985       -379.761     \n",
       " -136.997       -112.122        -75.5746         -154.687       -178.031     \n",
       " -128.899       -107.701        -84.197       …   -93.9406      -120.308     \n",
       "  -77.9253       -46.3903        -1.06617         -80.2709      -104.201     \n",
       "  -34.3839        -1.84707       33.0199         -145.407       -159.359     \n",
       "  -21.0944       -20.5075       -20.7028           -2.05097        2.44153   \n",
       "    5.95731        5.56638        5.85957           4.88288        4.78514   \n",
       "   31.9337        33.0083        33.2028      …    11.0347         7.42181   \n",
       "    8.10561        8.39851        8.00799           6.54295        6.34769   \n",
       "    1.70544e-5     1.70544e-5     1.70544e-5        1.70544e-5     1.70544e-5\n",
       "    0.0            0.0            0.0               0.0            0.0       \n",
       "    0.0            0.0            0.0               0.0            0.0       "
      ]
     },
     "execution_count": 29,
     "metadata": {},
     "output_type": "execute_result"
    }
   ],
   "source": [
    "data = matread(filename);\n",
    "\n",
    "data[\"channels\"]"
   ]
  },
  {
   "cell_type": "code",
   "execution_count": 22,
   "metadata": {},
   "outputs": [],
   "source": [
    "data = matread(filename);\n",
    "\n",
    "channels = zeros(length(data)-2, length(data[\"Chan__1\"][\"times\"]))\n",
    "for (i, j) in data\n",
    "    if i == \"Memory\" || i == \"file\"\n",
    "        continue\n",
    "    end\n",
    "    \n",
    "    idx = j[\"title\"] |> (x)->split(x, \"Chan\") |> (x)->parse(x[2])\n",
    "    channels[idx, :] = j[\"times\"][:]\n",
    "end"
   ]
  },
  {
   "cell_type": "code",
   "execution_count": 23,
   "metadata": {},
   "outputs": [
    {
     "data": {
      "text/plain": [
       "123×235200 Array{Float64,2}:\n",
       " 0.0  0.0005  0.001  0.0015  0.002  …  117.598  117.599  117.599  117.599\n",
       " 0.0  0.0005  0.001  0.0015  0.002     117.598  117.599  117.599  117.599\n",
       " 0.0  0.0005  0.001  0.0015  0.002     117.598  117.599  117.599  117.599\n",
       " 0.0  0.0005  0.001  0.0015  0.002     117.598  117.599  117.599  117.599\n",
       " 0.0  0.0005  0.001  0.0015  0.002     117.598  117.599  117.599  117.599\n",
       " 0.0  0.0005  0.001  0.0015  0.002  …  117.598  117.599  117.599  117.599\n",
       " 0.0  0.0005  0.001  0.0015  0.002     117.598  117.599  117.599  117.599\n",
       " 0.0  0.0005  0.001  0.0015  0.002     117.598  117.599  117.599  117.599\n",
       " 0.0  0.0005  0.001  0.0015  0.002     117.598  117.599  117.599  117.599\n",
       " 0.0  0.0005  0.001  0.0015  0.002     117.598  117.599  117.599  117.599\n",
       " 0.0  0.0005  0.001  0.0015  0.002  …  117.598  117.599  117.599  117.599\n",
       " 0.0  0.0005  0.001  0.0015  0.002     117.598  117.599  117.599  117.599\n",
       " 0.0  0.0005  0.001  0.0015  0.002     117.598  117.599  117.599  117.599\n",
       " ⋮                                  ⋱                                    \n",
       " 0.0  0.0005  0.001  0.0015  0.002     117.598  117.599  117.599  117.599\n",
       " 0.0  0.0005  0.001  0.0015  0.002     117.598  117.599  117.599  117.599\n",
       " 0.0  0.0005  0.001  0.0015  0.002     117.598  117.599  117.599  117.599\n",
       " 0.0  0.0005  0.001  0.0015  0.002     117.598  117.599  117.599  117.599\n",
       " 0.0  0.0005  0.001  0.0015  0.002  …  117.598  117.599  117.599  117.599\n",
       " 0.0  0.0005  0.001  0.0015  0.002     117.598  117.599  117.599  117.599\n",
       " 0.0  0.0005  0.001  0.0015  0.002     117.598  117.599  117.599  117.599\n",
       " 0.0  0.0005  0.001  0.0015  0.002     117.598  117.599  117.599  117.599\n",
       " 0.0  0.0005  0.001  0.0015  0.002     117.598  117.599  117.599  117.599\n",
       " 0.0  0.0005  0.001  0.0015  0.002  …  117.598  117.599  117.599  117.599\n",
       " 0.0  0.0005  0.001  0.0015  0.002     117.598  117.599  117.599  117.599\n",
       " 0.0  0.0005  0.001  0.0015  0.002     117.598  117.599  117.599  117.599"
      ]
     },
     "execution_count": 23,
     "metadata": {},
     "output_type": "execute_result"
    }
   ],
   "source": [
    "channels"
   ]
  },
  {
   "cell_type": "code",
   "execution_count": null,
   "metadata": {},
   "outputs": [],
   "source": []
  },
  {
   "cell_type": "code",
   "execution_count": 17,
   "metadata": {},
   "outputs": [
    {
     "data": {
      "text/plain": [
       "125"
      ]
     },
     "execution_count": 17,
     "metadata": {},
     "output_type": "execute_result"
    }
   ],
   "source": [
    "length(data)"
   ]
  },
  {
   "cell_type": "code",
   "execution_count": 16,
   "metadata": {},
   "outputs": [
    {
     "data": {
      "text/plain": [
       "(235200, 1)"
      ]
     },
     "execution_count": 16,
     "metadata": {},
     "output_type": "execute_result"
    }
   ],
   "source": [
    "data[\"Chan__1\"][\"times\"] |> size"
   ]
  },
  {
   "cell_type": "code",
   "execution_count": 7,
   "metadata": {},
   "outputs": [
    {
     "data": {
      "text/plain": [
       "Dict{String,Any} with 10 entries:\n",
       "  \"length\"   => 235200.0\n",
       "  \"units\"    => 'V'\n",
       "  \"interval\" => 0.0005\n",
       "  \"start\"    => 0.0\n",
       "  \"offset\"   => 0.0\n",
       "  \"values\"   => [0.0; 0.0; … ; 0.0; 0.0]\n",
       "  \"title\"    => \"Chan  1\"\n",
       "  \"times\"    => [0.0; 0.0005; … ; 117.599; 117.599]\n",
       "  \"scale\"    => 0.0105648\n",
       "  \"comment\"  => \"\""
      ]
     },
     "execution_count": 7,
     "metadata": {},
     "output_type": "execute_result"
    }
   ],
   "source": [
    "data[\"Chan__1\"]"
   ]
  },
  {
   "cell_type": "code",
   "execution_count": 8,
   "metadata": {},
   "outputs": [
    {
     "name": "stdout",
     "output_type": "stream",
     "text": [
      "search: \u001b[1ms\u001b[22m\u001b[1mp\u001b[22m\u001b[1ml\u001b[22m\u001b[1mi\u001b[22m\u001b[1mt\u001b[22m \u001b[1ms\u001b[22m\u001b[1mp\u001b[22m\u001b[1ml\u001b[22m\u001b[1mi\u001b[22m\u001b[1mt\u001b[22mext \u001b[1ms\u001b[22m\u001b[1mp\u001b[22m\u001b[1ml\u001b[22m\u001b[1mi\u001b[22m\u001b[1mt\u001b[22mdir \u001b[1ms\u001b[22m\u001b[1mp\u001b[22m\u001b[1ml\u001b[22m\u001b[1mi\u001b[22m\u001b[1mt\u001b[22mdrive r\u001b[1ms\u001b[22m\u001b[1mp\u001b[22m\u001b[1ml\u001b[22m\u001b[1mi\u001b[22m\u001b[1mt\u001b[22m \u001b[1ms\u001b[22m\u001b[1mp\u001b[22m\u001b[1ml\u001b[22m\u001b[1mi\u001b[22mce! di\u001b[1ms\u001b[22m\u001b[1mp\u001b[22m\u001b[1ml\u001b[22mays\u001b[1mi\u001b[22mze\n",
      "\n"
     ]
    },
    {
     "data": {
      "text/markdown": [
       "```\n",
       "split(s::AbstractString, [chars]; limit::Integer=0, keep::Bool=true)\n",
       "```\n",
       "\n",
       "Return an array of substrings by splitting the given string on occurrences of the given character delimiters, which may be specified in any of the formats allowed by `search`'s second argument (i.e. a single character, collection of characters, string, or regular expression). If `chars` is omitted, it defaults to the set of all space characters, and `keep` is taken to be `false`. The two keyword arguments are optional: they are a maximum size for the result and a flag determining whether empty fields should be kept in the result.\n",
       "\n",
       "```jldoctest\n",
       "julia> a = \"Ma.rch\"\n",
       "\"Ma.rch\"\n",
       "\n",
       "julia> split(a,\".\")\n",
       "2-element Array{SubString{String},1}:\n",
       " \"Ma\"\n",
       " \"rch\"\n",
       "```\n"
      ],
      "text/plain": [
       "```\n",
       "split(s::AbstractString, [chars]; limit::Integer=0, keep::Bool=true)\n",
       "```\n",
       "\n",
       "Return an array of substrings by splitting the given string on occurrences of the given character delimiters, which may be specified in any of the formats allowed by `search`'s second argument (i.e. a single character, collection of characters, string, or regular expression). If `chars` is omitted, it defaults to the set of all space characters, and `keep` is taken to be `false`. The two keyword arguments are optional: they are a maximum size for the result and a flag determining whether empty fields should be kept in the result.\n",
       "\n",
       "```jldoctest\n",
       "julia> a = \"Ma.rch\"\n",
       "\"Ma.rch\"\n",
       "\n",
       "julia> split(a,\".\")\n",
       "2-element Array{SubString{String},1}:\n",
       " \"Ma\"\n",
       " \"rch\"\n",
       "```\n"
      ]
     },
     "execution_count": 8,
     "metadata": {},
     "output_type": "execute_result"
    }
   ],
   "source": [
    "?split"
   ]
  },
  {
   "cell_type": "code",
   "execution_count": 15,
   "metadata": {},
   "outputs": [
    {
     "data": {
      "text/plain": [
       "1"
      ]
     },
     "execution_count": 15,
     "metadata": {},
     "output_type": "execute_result"
    }
   ],
   "source": [
    "split(\"Chan  1\", \"Chan\")[2] |> parse"
   ]
  },
  {
   "cell_type": "code",
   "execution_count": null,
   "metadata": {},
   "outputs": [],
   "source": []
  }
 ],
 "metadata": {
  "kernelspec": {
   "display_name": "Julia 0.6.4",
   "language": "julia",
   "name": "julia-0.6"
  },
  "language_info": {
   "file_extension": ".jl",
   "mimetype": "application/julia",
   "name": "julia",
   "version": "0.6.4"
  }
 },
 "nbformat": 4,
 "nbformat_minor": 2
}
