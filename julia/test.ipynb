{
 "cells": [
  {
   "cell_type": "code",
   "execution_count": 1,
   "metadata": {},
   "outputs": [
    {
     "name": "stderr",
     "output_type": "stream",
     "text": [
      "\u001b[1m\u001b[36mINFO: \u001b[39m\u001b[22m\u001b[36mRecompiling stale cache file /Users/yizhan/.julia/lib/v0.6/Blosc.ji for module Blosc.\n",
      "\u001b[39m\u001b[1m\u001b[36mINFO: \u001b[39m\u001b[22m\u001b[36mRecompiling stale cache file /Users/yizhan/.julia/lib/v0.6/MAT.ji for module MAT.\n",
      "\u001b[39m\u001b[1m\u001b[36mINFO: \u001b[39m\u001b[22m\u001b[36mRecompiling stale cache file /Users/yizhan/.julia/lib/v0.6/Plots.ji for module Plots.\n",
      "\u001b[39m\u001b[1m\u001b[36mINFO: \u001b[39m\u001b[22m\u001b[36mRecompiling stale cache file /Users/yizhan/.julia/lib/v0.6/VersionParsing.ji for module VersionParsing.\n",
      "\u001b[39m\u001b[1m\u001b[36mINFO: \u001b[39m\u001b[22m\u001b[36mRecompiling stale cache file /Users/yizhan/.julia/lib/v0.6/PyPlot.ji for module PyPlot.\n",
      "\u001b[39m"
     ]
    },
    {
     "data": {
      "text/plain": [
       "Plots.PyPlotBackend()"
      ]
     },
     "execution_count": 1,
     "metadata": {},
     "output_type": "execute_result"
    }
   ],
   "source": [
    "include(\"FastConv/FastConv.jl\")\n",
    "using FastConv\n",
    "using MAT\n",
    "using Plots\n",
    "pyplot()"
   ]
  },
  {
   "cell_type": "code",
   "execution_count": 2,
   "metadata": {},
   "outputs": [
    {
     "data": {
      "text/plain": [
       "get_ERP"
      ]
     },
     "execution_count": 2,
     "metadata": {},
     "output_type": "execute_result"
    }
   ],
   "source": [
    "\"\"\"\n",
    "    EEGAnalysisContainer\n",
    "\n",
    "store all the raw data and epoch data in one place.\n",
    "\"\"\"\n",
    "struct EEGAnalysisContainer\n",
    "    \n",
    "    # meta\n",
    "    subject::String  # subject name or id\n",
    "    expname::String  # experiment name or id\n",
    "    \n",
    "    data_dir::String \n",
    "    result_dir::String\n",
    "    \n",
    "    # recording\n",
    "    fs::Float32  # sampling frequency\n",
    "    iti::Float32\n",
    "    \n",
    "    # analysis parameters\n",
    "    roi::Tuple{Float32,Float32}  # region of interest\n",
    "    \n",
    "    # data\n",
    "    channels::Array{Float32, 2}\n",
    "    tspec::Array{Float32, 1}\n",
    "    markers::Dict{String, Array{Float32, 1}}\n",
    "    \n",
    "    # pre-processed data\n",
    "#     channel_epoch::Dict{String, Array{Float32, 3}}\n",
    "\n",
    "end\n",
    "\n",
    "\n",
    "\"\"\"\n",
    "    create_epoch(channels::Array{T, 2}, markers::Array{T, 1}, roi::Tuple{T, T}, fs::T)\n",
    "\n",
    "data epoching, according to the marker time points in `markers` and region of interest (`roi`).\n",
    "\"\"\"\n",
    "function create_epoch(channels::Array{T, 2}, markers::Array{T, 1}, roi::Tuple{T, T}, fs::T) where {T}\n",
    "    \n",
    "    epoch = zeros(T, (size(channels, 1), floor((roi[2]-roi[1])*fs), size(markers, 1)))\n",
    "    L = floor((roi[2]-roi[1])*fs)\n",
    "    for (midx, mark) in enumerate(markers)\n",
    "        start = Int(floor((mark+roi[1])*fs))\n",
    "        epoch[:, :, midx] = channels[:, start:start+L-1]\n",
    "    end\n",
    "    return epoch\n",
    "end\n",
    "\n",
    "\n",
    "\"\"\"\n",
    "    create_container(datadir, resultdir, patientname, expname)\n",
    "\n",
    "import data and create an `EEGAnalysisContainer`.\n",
    "\"\"\"\n",
    "function create_container(datadir, resultdir, patientname, expname)\n",
    "    rawdata = matread(joinpath(datadir, patientname, \n",
    "            \"EEG\", \"Compact\", expname*\".mat\"))\n",
    "    \n",
    "    fs = size(rawdata[\"channels\"],2) / rawdata[\"times\"][end] |> floor\n",
    "    iti = rawdata[\"markers\"][\"grating\"][1,2] - rawdata[\"markers\"][\"grating\"][1,1]\n",
    "    roi = (-2.0, iti)\n",
    "    \n",
    "    channels = rawdata[\"channels\"]\n",
    "    tspec = rawdata[\"times\"][:]\n",
    "    markers = Dict([k=>rawdata[\"markers\"][k][:] for k in keys(rawdata[\"markers\"])])\n",
    "    \n",
    "#     epoch = Dict([k => create_epoch(channels, markers[k], roi, fs) for k in keys(markers)])\n",
    "    \n",
    "    return EEGAnalysisContainer(patientname, expname, \n",
    "        joinpath(datadir, patientname), joinpath(resultdir, patientname),\n",
    "        fs, iti, roi, channels, tspec, markers)\n",
    "end\n",
    "\n",
    "\n",
    "\"\"\"\n",
    "    get_ERP(container::EEGAnalysisContainer, markername::String)\n",
    "\n",
    "calculate the ERP from the epoch data in the container.\n",
    "\"\"\"\n",
    "function get_ERP(container::EEGAnalysisContainer, markername::String)\n",
    "    container.channel_epoch[markername] |> (x) -> mean(x, 3) |> (x) -> squeeze(x, 3)\n",
    "end"
   ]
  },
  {
   "cell_type": "code",
   "execution_count": 3,
   "metadata": {},
   "outputs": [
    {
     "name": "stdout",
     "output_type": "stream",
     "text": [
      "  3.649564 seconds (1.38 M allocations: 414.394 MiB, 10.08% gc time)\n"
     ]
    }
   ],
   "source": [
    "@time raw = create_container(\"../../Data\", \"../../Result\", \"Chen Zhou\", \"180903-2-5\");"
   ]
  },
  {
   "cell_type": "code",
   "execution_count": 4,
   "metadata": {},
   "outputs": [
    {
     "name": "stderr",
     "output_type": "stream",
     "text": [
      "\u001b[1m\u001b[36mINFO: \u001b[39m\u001b[22m\u001b[36mRecompiling stale cache file /Users/yizhan/.julia/lib/v0.6/WAV.ji for module WAV.\n",
      "\u001b[39m"
     ]
    }
   ],
   "source": [
    "using WAV"
   ]
  },
  {
   "cell_type": "code",
   "execution_count": 11,
   "metadata": {},
   "outputs": [],
   "source": [
    "wavwrite(raw.channels[99,:], \"180903-2-5-Ch99.wav\", Fs=2000)"
   ]
  },
  {
   "cell_type": "code",
   "execution_count": 13,
   "metadata": {},
   "outputs": [
    {
     "data": {
      "text/plain": [
       "([15.0304; 15.433; … ; -54.9774; -51.9579], 2000.0f0, 0x0020, Dict{Symbol,Any}(Pair{Symbol,Any}(:fmt, WAV.WAVFormat(0xfffe, 0x0001, 0x000007d0, 0x00001f40, 0x0004, 0x0020, WAV.WAVFormatExtension(0x0020, 0x00000000, UInt8[0x03, 0x00, 0x00, 0x00, 0x00, 0x00, 0x10, 0x00, 0x80, 0x00, 0x00, 0xaa, 0x00, 0x38, 0x9b, 0x71])))))"
      ]
     },
     "execution_count": 13,
     "metadata": {},
     "output_type": "execute_result"
    }
   ],
   "source": [
    "y, fs = wavread(\"180903-2-5-Ch99.wav\")"
   ]
  },
  {
   "cell_type": "markdown",
   "metadata": {},
   "source": [
    "# wavelet transform"
   ]
  },
  {
   "cell_type": "code",
   "execution_count": 114,
   "metadata": {},
   "outputs": [
    {
     "data": {
      "text/plain": [
       "power"
      ]
     },
     "execution_count": 114,
     "metadata": {},
     "output_type": "execute_result"
    }
   ],
   "source": [
    "\"\"\"\n",
    "    morlet(F, fs)\n",
    "\n",
    "return the morlet wavelet of `F` hz in complex array, \n",
    "corresponding to sampling rate `fs`.\n",
    "\"\"\"\n",
    "function morlet(F::T, fs::T) where {T}\n",
    "    s = 6 / (2 * pi * F)\n",
    "    wtime = linspace(-1,1,2*fs)\n",
    "    wavelet = exp.(2*pi*wtime*F*1im) .* exp.(- wtime.^2/(2*s^2))\n",
    "    return wavelet |> Array{Complex{T}}\n",
    "end\n",
    "\n",
    "\n",
    "\"\"\"\n",
    "    dwt(data::Array{T, 1}, F, fs)\n",
    "\n",
    "perform discrete wavelet transform to data array.\n",
    "`F` as the wavelet frequency, `fs` as the sampling rate.\n",
    "\"\"\"\n",
    "function dwt(data::Array{T, 1}, F::T, fs::T) where {T}\n",
    "    rawdata = data |> fft |> ifft\n",
    "    result = Array{Complex{T}, 2}(size(data, 1), size(frange, 1))\n",
    "    wavelet = morlet(F, fs)\n",
    "    result = conv(rawdata, wavelet)[Int(fs):end-Int(fs)]\n",
    "    return result\n",
    "end\n",
    "\n",
    "\n",
    "\"\"\"\n",
    "    dwt(data::Array{T, 2}, F, fs)\n",
    "\n",
    "perform discrete wavelet tranform to data matrix.\n",
    "columns (axis 2) as the observations.\n",
    "`F` as the wavelet frequency, `fs` as the sampling rate.\n",
    "\"\"\"\n",
    "function dwt(data::Array{T, 2}, F::T, fs::T) where {T}\n",
    "    rawdata = data |> fft |> ifft\n",
    "    result = zeros(Complex{T}, size(data, 1), size(data, 2))\n",
    "    wavelet = morlet(F, fs)\n",
    "    \n",
    "    #TODO: further optimization\n",
    "    for chidx = 1:size(data, 2)\n",
    "        result[:, chidx] = conv(rawdata[:, chidx], wavelet)[Int(fs):end-Int(fs)]\n",
    "    end\n",
    "    \n",
    "    return result\n",
    "end\n",
    "\n",
    "\n",
    "\"\"\"\n",
    "    power(data::Array{T, 2}, fs, frange; db_calibration)\n",
    "\n",
    "calculate total power of the data matrix. \n",
    "columns (axis 2) as diferent trials of one channel (or observation),\n",
    "`fs` as sampling frequency, `frange` as the target wavelet frequencies.\n",
    "`db_calibration` set the calibration methods, one of [`:zscore`, `:none`]\n",
    "\"\"\"\n",
    "function power(data::Array{T, 2}, fs::T, frange::Array{T, 1}; db_calibration::Symbol=:zscore) where {T}\n",
    "    result = Array{T, 2}(size(data,1), size(frange, 1))\n",
    "    for (fidx, ftarget) in enumerate(frange)\n",
    "        result[:, fidx] = mean(abs.(dwt(data, ftarget, fs)) .^ 2, 2)[:]\n",
    "    end\n",
    "    \n",
    "    if db_calibration == :zscore\n",
    "        temp = log10.(result)\n",
    "        result = (temp .- mean(temp, 2)) ./ std(temp, 2)\n",
    "    else\n",
    "        result = log10.(result)\n",
    "    end\n",
    "    \n",
    "    return result\n",
    "end"
   ]
  },
  {
   "cell_type": "code",
   "execution_count": 89,
   "metadata": {},
   "outputs": [
    {
     "name": "stdout",
     "output_type": "stream",
     "text": [
      "(14000, 20)  1.199320 seconds (77.35 k allocations: 843.282 MiB, 12.27% gc time)\n"
     ]
    }
   ],
   "source": [
    "curve = raw.channel_epoch[\"grating\"][15,:,:]\n",
    "print(size(curve))\n",
    "frange = logspace(log10(1), log10(80), 30) |> Array{Float32}\n",
    "@time r = power(curve, raw.fs, frange);"
   ]
  },
  {
   "cell_type": "markdown",
   "metadata": {},
   "source": [
    "# validation"
   ]
  },
  {
   "cell_type": "code",
   "execution_count": 41,
   "metadata": {},
   "outputs": [],
   "source": [
    "using WAV"
   ]
  },
  {
   "cell_type": "code",
   "execution_count": 48,
   "metadata": {},
   "outputs": [
    {
     "data": {
      "text/plain": [
       "([0.0; 0.0; … ; 0.00021363; 0.000305185], 44100.0f0, 0x0010, Dict{Symbol,Any}(Pair{Symbol,Any}(:fmt, WAV.WAVFormat(0x0001, 0x0001, 0x0000ac44, 0x00015888, 0x0002, 0x0010, WAV.WAVFormatExtension(0x0000, 0x00000000, UInt8[])))))"
      ]
     },
     "execution_count": 48,
     "metadata": {},
     "output_type": "execute_result"
    }
   ],
   "source": [
    "(y, fs, nbits, opt) = wavread(\"../python/archive/Woodcreeper.wav\")"
   ]
  },
  {
   "cell_type": "code",
   "execution_count": 116,
   "metadata": {},
   "outputs": [
    {
     "name": "stdout",
     "output_type": "stream",
     "text": [
      "  2.721771 seconds (135.18 k allocations: 1.158 GiB, 13.63% gc time)\n"
     ]
    },
    {
     "data": {
      "text/plain": [
       "141708×30 Array{Float64,2}:\n",
       " -2.02819  -2.3377   -3.43749  -4.50875  …  -8.84495  -9.68395  -10.2158 \n",
       " -2.06864  -2.3726   -3.48262  -4.53083     -8.68213  -9.47029   -9.80335\n",
       " -2.33554  -2.59868  -3.78808  -4.66654     -8.54496  -9.30969   -9.5109 \n",
       " -2.94336  -3.09372  -4.55069  -4.91357     -8.43323  -9.19544   -9.33814\n",
       " -3.47723  -4.28293  -4.67011  -5.2534      -8.34667  -9.11619   -9.27489\n",
       " -2.89801  -4.17041  -4.05611  -5.59457  …  -8.28482  -9.05633   -9.28066\n",
       " -2.75086  -3.81031  -3.9248   -5.72923     -8.24695  -9.0008    -9.27125\n",
       " -2.93955  -4.29181  -4.09335  -5.56237     -8.23182  -8.9424    -9.20511\n",
       " -3.44699  -4.39288  -4.62107  -5.27113     -8.23733  -8.88309   -9.14955\n",
       " -3.25104  -3.3609   -4.93546  -5.01801     -8.2602   -8.8272    -9.16821\n",
       " -2.78793  -2.96802  -4.34515  -4.85688  …  -8.29563  -8.77534   -9.26442\n",
       " -2.62029  -2.83259  -4.13162  -4.79128     -8.33743  -8.72576   -9.36636\n",
       " -2.68232  -2.88276  -4.20951  -4.81601     -8.37903  -8.67977   -9.34639\n",
       "  ⋮                                      ⋱                               \n",
       " -3.66709  -3.99996  -6.17054  -5.29737     -6.89722  -8.44425   -8.81773\n",
       " -3.55329  -3.98679  -6.63972  -5.319       -6.97606  -8.64716   -8.88477\n",
       " -3.52889  -3.98133  -6.67137  -5.32391     -7.10283  -8.48032   -9.11707\n",
       " -3.5852   -3.99259  -6.53173  -5.31302     -7.30099  -8.17408   -9.6143 \n",
       " -3.70024  -4.00039  -6.04201  -5.29173  …  -7.62407  -7.91846  -10.445  \n",
       " -3.82974  -3.9872   -5.64685  -5.26865     -8.2432   -7.71564  -10.1388 \n",
       " -3.92598  -3.96295  -5.42403  -5.25102     -9.09944  -7.54389  -10.421  \n",
       " -3.96003  -3.95091  -5.35143  -5.24438     -7.93187  -7.38919   -9.4392 \n",
       " -3.92131  -3.96449  -5.4344   -5.25212     -7.42711  -7.24918   -8.50244\n",
       " -3.81207  -3.99031  -5.69314  -5.27218  …  -7.13776  -7.13074   -7.95154\n",
       " -3.68444  -4.0004   -6.10282  -5.29513     -6.95882  -7.04445   -7.60897\n",
       " -3.59933  -3.99448  -6.471    -5.311       -6.85317  -6.99997   -7.4193 "
      ]
     },
     "execution_count": 116,
     "metadata": {},
     "output_type": "execute_result"
    }
   ],
   "source": [
    "@time jj = power(y, Float64(fs), logspace(log10(1), log10(15000), 30), db_calibration=:none)"
   ]
  },
  {
   "cell_type": "code",
   "execution_count": 117,
   "metadata": {},
   "outputs": [
    {
     "data": {
      "image/png": "[encoded data removed]"
     },
     "execution_count": 117,
     "metadata": {},
     "output_type": "execute_result"
    }
   ],
   "source": [
    "contourf(linspace(0, length(y)/fs, length(y)), logspace(log10(1), log10(15000), 30), jj', color=:viridis, levels=30)\n",
    "plot!(colorbar=false)"
   ]
  },
  {
   "cell_type": "markdown",
   "metadata": {},
   "source": [
    "![](../python/archive/woodcreeper.png)"
   ]
  },
  {
   "cell_type": "code",
   "execution_count": null,
   "metadata": {},
   "outputs": [],
   "source": []
  }
 ],
 "metadata": {
  "kernelspec": {
   "display_name": "Julia 0.6.4",
   "language": "julia",
   "name": "julia-0.6"
  },
  "language_info": {
   "file_extension": ".jl",
   "mimetype": "application/julia",
   "name": "julia",
   "version": "0.6.4"
  }
 },
 "nbformat": 4,
 "nbformat_minor": 2
}
