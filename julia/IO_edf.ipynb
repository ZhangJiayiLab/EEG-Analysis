{
 "cells": [
  {
   "cell_type": "code",
   "execution_count": 1,
   "metadata": {},
   "outputs": [],
   "source": [
    "using MAT\n",
    "using JLD\n",
    "# using Plots\n",
    "# pyplot()"
   ]
  },
  {
   "cell_type": "markdown",
   "metadata": {},
   "source": [
    "```\n",
    "HEADER RECORD (we suggest to also adopt the 12 simple additional EDF+ specs)\n",
    "8 ascii : version of this data format (0) \n",
    "80 ascii : local patient identification (mind item 3 of the additional EDF+ specs)\n",
    "80 ascii : local recording identification (mind item 4 of the additional EDF+ specs)\n",
    "8 ascii : startdate of recording (dd.mm.yy) (mind item 2 of the additional EDF+ specs)\n",
    "8 ascii : starttime of recording (hh.mm.ss) \n",
    "8 ascii : number of bytes in header record \n",
    "44 ascii : reserved \n",
    "8 ascii : number of data records (-1 if unknown, obey item 10 of the additional EDF+ specs) \n",
    "8 ascii : duration of a data record, in seconds \n",
    "4 ascii : number of signals (ns) in data record \n",
    "ns * 16 ascii : ns * label (e.g. EEG Fpz-Cz or Body temp) (mind item 9 of the additional EDF+ specs)\n",
    "ns * 80 ascii : ns * transducer type (e.g. AgAgCl electrode) \n",
    "ns * 8 ascii : ns * physical dimension (e.g. uV or degreeC) \n",
    "ns * 8 ascii : ns * physical minimum (e.g. -500 or 34) \n",
    "ns * 8 ascii : ns * physical maximum (e.g. 500 or 40) \n",
    "ns * 8 ascii : ns * digital minimum (e.g. -2048) \n",
    "ns * 8 ascii : ns * digital maximum (e.g. 2047) \n",
    "ns * 80 ascii : ns * prefiltering (e.g. HP:0.1Hz LP:75Hz) \n",
    "ns * 8 ascii : ns * nr of samples in each data record \n",
    "ns * 32 ascii : ns * reserved\n",
    "\n",
    "DATA RECORD \n",
    "nr of samples[1] * integer : first signal in the data record \n",
    "nr of samples[2] * integer : second signal \n",
    ".. \n",
    ".. \n",
    "nr of samples[ns] * integer : last signal \n",
    "```"
   ]
  },
  {
   "cell_type": "code",
   "execution_count": 12,
   "metadata": {},
   "outputs": [
    {
     "data": {
      "text/plain": [
       "edf2jld (generic function with 2 methods)"
      ]
     },
     "execution_count": 12,
     "metadata": {},
     "output_type": "execute_result"
    }
   ],
   "source": [
    "struct EDFData\n",
    "    \n",
    "    # Header\n",
    "    version::Int64                      # 8 ascii : version of this data format (0) \n",
    "    patient_info::String                # 80 ascii : local patient identification (mind item 3 of the additional EDF+ specs)\n",
    "    record_info::String                 # 80 ascii : local recording identification (mind item 4 of the additional EDF+ specs)\n",
    "    start_date::String                  # 8 ascii : startdate of recording (dd.mm.yy) (mind item 2 of the additional EDF+ specs)\n",
    "    start_time::String                  # 8 ascii : starttime of recording (hh.mm.ss) \n",
    "    header_length::Int64                # 8 ascii : number of bytes in header record \n",
    "                                        # 44 ascii : reserved \n",
    "    recordnum::Int64                    # 8 ascii : number of data records (-1 if unknown, obey item 10 of the additional EDF+ specs) \n",
    "    sampleduration::Float32             # 8 ascii : duration of a data record, in seconds \n",
    "    nchannel::Int64                     # 4 ascii : number of signals (ns) in data record \n",
    "    channelLabels::Array{String, 1}     # ns * 16 ascii : ns * label (e.g. EEG Fpz-Cz or Body temp) (mind item 9 of the additional EDF+ specs)\n",
    "    channelType::Array{String, 1}       # ns * 80 ascii : ns * transducer type (e.g. AgAgCl electrode) \n",
    "    physical_dim::Array{String, 1}      # ns * 8 ascii : ns * physical dimension (e.g. uV or degreeC) \n",
    "    physical_min::Array{Float32, 2}     # ns * 8 ascii : ns * physical minimum (e.g. -500 or 34) \n",
    "    physical_max::Array{Float32, 2}     # ns * 8 ascii : ns * physical maximum (e.g. 500 or 40) \n",
    "    digital_min::Array{Int16, 2}        # ns * 8 ascii : ns * digital minimum (e.g. -2048) \n",
    "    digital_max::Array{Int16, 2}        # ns * 8 ascii : ns * digital maximum (e.g. 2047) \n",
    "    prefiltering::Array{String, 1}      # ns * 80 ascii : ns * prefiltering (e.g. HP:0.1Hz LP:75Hz) \n",
    "    samples::Array{Int16, 1}            # ns * 8 ascii : ns * nr of samples in each data record \n",
    "    reserved_samples::Array{Int16, 1}   # ns * 32 ascii : ns * reserved\n",
    "    \n",
    "    # Data\n",
    "    data::Array{Float32, 2}\n",
    "    reserved_data::Array{Float32, 2}\n",
    "end\n",
    "\n",
    "function readEDFFile(filename::String, analog::Bool=false)\n",
    "    rawfile = open(filename)\n",
    "    #Header\n",
    "    version = read(rawfile, UInt8, 8)       .|> Char |> String |> parse\n",
    "    patient_info = read(rawfile, UInt8, 80) .|> Char |> String |> strip\n",
    "    record_info = read(rawfile, UInt8, 80)  .|> Char |> String |> strip\n",
    "    start_date = read(rawfile, UInt8, 8)    .|> Char |> String |> strip\n",
    "    start_time = read(rawfile, UInt8, 8)    .|> Char |> String |> strip\n",
    "    header_length = read(rawfile, UInt8, 8) .|> Char |> String |> parse\n",
    "    reserved = read(rawfile, UInt8, 44)\n",
    "    recordnum = read(rawfile, UInt8, 8)     .|> Char |> String |> parse\n",
    "    sampleduration = read(rawfile, UInt8, 8).|> Char |> String |> parse\n",
    "    nchannel = read(rawfile, UInt8, 4)      .|> Char |> String |> parse\n",
    "    \n",
    "    channelLabels = Array{String,1}(nchannel)\n",
    "    for chidx = 1:nchannel\n",
    "        channelLabels[chidx] = read(rawfile, UInt8, 16) .|> Char |> String |> strip\n",
    "    end\n",
    "\n",
    "    channelType = Array{String,1}(nchannel)\n",
    "    for chidx = 1:nchannel\n",
    "        channelType[chidx] = read(rawfile, UInt8, 80) .|> Char |> String |> strip\n",
    "    end\n",
    "    \n",
    "    physical_dim = Array{String,1}(nchannel)\n",
    "    for chidx = 1:nchannel\n",
    "        physical_dim[chidx] = read(rawfile, UInt8, 8) .|> Char |> String |> strip\n",
    "    end\n",
    "    \n",
    "    physical_min = zeros(Float32, (1, nchannel))\n",
    "    for chidx = 1:nchannel\n",
    "        physical_min[chidx] = read(rawfile, UInt8, 8) .|> Char |> String |> parse\n",
    "    end\n",
    "    \n",
    "    physical_max = zeros(Float32, (1, nchannel))\n",
    "    for chidx = 1:nchannel\n",
    "        physical_max[chidx] = read(rawfile, UInt8, 8) .|> Char |> String |> parse\n",
    "    end\n",
    "    \n",
    "    digital_min = zeros(Int16, (1, nchannel))\n",
    "    for chidx = 1:nchannel\n",
    "        digital_min[chidx] = read(rawfile, UInt8, 8) .|> Char |> String |> parse\n",
    "    end\n",
    "    \n",
    "    digital_max = zeros(Int16, (1, nchannel))\n",
    "    for chidx = 1:nchannel\n",
    "        digital_max[chidx] = read(rawfile, UInt8, 8) .|> Char |> String |> parse\n",
    "    end\n",
    "    \n",
    "    prefiltering = Array{String, 1}(nchannel)\n",
    "    for chidx = 1:nchannel\n",
    "        prefiltering[chidx] = read(rawfile, UInt8, 80) .|> Char |> String |> strip\n",
    "    end\n",
    "    \n",
    "    samples = Array{Int16, 1}(nchannel)\n",
    "    for chidx = 1:nchannel\n",
    "        samples[chidx] = read(rawfile, UInt8, 8) .|> Char |> String |> parse\n",
    "    end\n",
    "    \n",
    "    reserved_samples = Array{Int16, 1}(nchannel)\n",
    "    for chidx = 1:nchannel\n",
    "        reserved_samples[chidx] = read(rawfile, UInt8, 32) .|> Char |> String |> parse |> (x)-> x==nothing?0:x\n",
    "    end\n",
    "    \n",
    "#     reserved = read(rawfile, UInt8, header_length-256+nchannel*256)\n",
    "    \n",
    "    #Data\n",
    "    data = zeros(Float32, (recordnum*samples[1], nchannel))\n",
    "    reserved_data = zeros(Float32, (recordnum*reserved_samples[1], nchannel))\n",
    "    \n",
    "    step = samples |> sum\n",
    "    for ri = 1:recordnum\n",
    "        record_data = read(rawfile, Int16, step)\n",
    "        data[samples[1]*(ri-1)+1:samples[1]*ri,:] = reshape(record_data, (samples[1], nchannel))\n",
    "    end\n",
    "    \n",
    "    close(rawfile)\n",
    "    \n",
    "    if analog\n",
    "        data = (data .- digital_min) ./ (digital_max - digital_min) .* \n",
    "               (physical_max - physical_min) .+ physical_min\n",
    "    end\n",
    "    \n",
    "    return EDFData( version, patient_info, record_info,\n",
    "                    start_date, start_time, header_length,\n",
    "                    recordnum, sampleduration, nchannel,\n",
    "                    channelLabels, channelType, physical_dim, \n",
    "                    physical_min, physical_max, digital_min, digital_max,\n",
    "                    prefiltering, samples, reserved_samples,\n",
    "                    data, reserved_data)\n",
    "end\n",
    "\n",
    "function edf2mat(filename::String, edfdata::EDFData)\n",
    "    matdict = Dict([ String(key) => getfield(edfdata, key) for key in fieldnames(edfdata)])\n",
    "    matwrite(filename, matdict)\n",
    "    matdict\n",
    "end\n",
    "\n",
    "function edf2jld(filename::String, edfdata::EDFData)\n",
    "    matdict = Dict([ String(key) => getfield(edfdata, key) for key in fieldnames(edfdata)])\n",
    "    JLD.save(filename, matdict)\n",
    "end"
   ]
  },
  {
   "cell_type": "code",
   "execution_count": 6,
   "metadata": {},
   "outputs": [
    {
     "name": "stdout",
     "output_type": "stream",
     "text": [
      "  1.350057 seconds (95.77 k allocations: 623.124 MiB, 22.00% gc time)\n"
     ]
    }
   ],
   "source": [
    "@time eeg = readEDFFile(\"../../Data/Yunfan Shu/EEG/EDF/15_3.edf\");"
   ]
  },
  {
   "cell_type": "code",
   "execution_count": 13,
   "metadata": {},
   "outputs": [
    {
     "data": {
      "text/plain": [
       "Dict{String,Any}"
      ]
     },
     "execution_count": 13,
     "metadata": {},
     "output_type": "execute_result"
    }
   ],
   "source": [
    "typeof(edf2mat(\"demo_3.mat\", eeg))"
   ]
  },
  {
   "cell_type": "code",
   "execution_count": 8,
   "metadata": {},
   "outputs": [],
   "source": [
    "edf2jld(\"demo_3.jld\", eeg)"
   ]
  },
  {
   "cell_type": "code",
   "execution_count": 11,
   "metadata": {},
   "outputs": [
    {
     "data": {
      "text/plain": [
       "Dict{Symbol,Int64}"
      ]
     },
     "execution_count": 11,
     "metadata": {},
     "output_type": "execute_result"
    }
   ],
   "source": [
    "typeof(Dict([:a => 4]))"
   ]
  },
  {
   "cell_type": "code",
   "execution_count": 15,
   "metadata": {},
   "outputs": [
    {
     "data": {
      "text/plain": [
       "convert (generic function with 1 method)"
      ]
     },
     "execution_count": 15,
     "metadata": {},
     "output_type": "execute_result"
    }
   ],
   "source": [
    "function convert(target::Dict{String,Any}, edfdata::EDFData)\n",
    "    4\n",
    "end"
   ]
  },
  {
   "cell_type": "code",
   "execution_count": null,
   "metadata": {},
   "outputs": [],
   "source": [
    "?convert"
   ]
  },
  {
   "cell_type": "code",
   "execution_count": null,
   "metadata": {},
   "outputs": [],
   "source": [
    "6+6"
   ]
  },
  {
   "cell_type": "code",
   "execution_count": null,
   "metadata": {},
   "outputs": [],
   "source": []
  }
 ],
 "metadata": {
  "kernelspec": {
   "display_name": "Julia 0.6.4",
   "language": "julia",
   "name": "julia-0.6"
  },
  "language_info": {
   "file_extension": ".jl",
   "mimetype": "application/julia",
   "name": "julia",
   "version": "0.6.4"
  }
 },
 "nbformat": 4,
 "nbformat_minor": 2
}
