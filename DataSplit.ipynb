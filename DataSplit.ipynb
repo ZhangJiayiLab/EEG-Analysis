{
 "cells": [
  {
   "cell_type": "code",
   "execution_count": 29,
   "metadata": {},
   "outputs": [],
   "source": [
    "import os, re\n",
    "from scipy.io import loadmat, savemat\n",
    "from tqdm import tqdm\n",
    "import numpy as np\n",
    "\n",
    "datadir = \"../../Data/Chen Zhou/EEG/Compact/\"\n",
    "exportdir = \"../../Data/Chen Zhou/EEG/SgCh/\"\n",
    "\n",
    "chrange = range(123)\n",
    "\n",
    "files = []\n",
    "matching_pattern = r\"\\d{6}-.*?\\.mat\"\n",
    "for item in os.listdir(datadir):\n",
    "    if re.match(matching_pattern, item):\n",
    "        possibleResultFile = os.path.splitext(item)[0]\n",
    "        files.append(possibleResultFile)\n",
    "print(len(files))\n",
    "\n",
    "for chidx in tqdm(chrange):\n",
    "    exportfiledir = os.path.join(exportdir, \"ch%03d\"%(chidx+1))\n",
    "    if not os.path.isdir(exportfiledir):\n",
    "        os.mkdir(exportfiledir)\n",
    "        \n",
    "    for each_source in files:\n",
    "        exportmat = os.path.join(exportfiledir, each_source+'_ch%03d.mat'%chidx)\n",
    "        sourcemat = os.path.join(datadir, each_source+'.mat')\n",
    "        if os.path.isfile(exportmat):\n",
    "            continue\n",
    "        \n",
    "        rawmat = loadmat(sourcemat)\n",
    "        savemat(exportmat, {\n",
    "            \"values\": rawmat['channels'][chidx, :],\n",
    "            \"times\":  rawmat[\"times\"][0,:],\n",
    "            \"markers\": rawmat[\"markers\"]\n",
    "        })"
   ]
  },
  {
   "cell_type": "code",
   "execution_count": 21,
   "metadata": {},
   "outputs": [
    {
     "data": {
      "text/plain": [
       "'../../Data/Chen Zhou/EEG/SgCh/ch001'"
      ]
     },
     "execution_count": 21,
     "metadata": {},
     "output_type": "execute_result"
    }
   ],
   "source": [
    "exportfiledir"
   ]
  },
  {
   "cell_type": "code",
   "execution_count": 37,
   "metadata": {},
   "outputs": [
    {
     "data": {
      "text/plain": [
       "array([[(array([[ 3.,  8., 13., 18., 23., 28., 33., 38., 43., 48., 53., 58., 63.,\n",
       "        68., 73., 78., 83., 88., 93., 98.]]), array([[103., 108.]]))]],\n",
       "      dtype=[('grating', 'O'), ('entrain', 'O')])"
      ]
     },
     "execution_count": 37,
     "metadata": {},
     "output_type": "execute_result"
    }
   ],
   "source": [
    "rawmat[\"markers\"]"
   ]
  },
  {
   "cell_type": "code",
   "execution_count": null,
   "metadata": {},
   "outputs": [],
   "source": []
  }
 ],
 "metadata": {
  "kernelspec": {
   "display_name": "Python 3",
   "language": "python",
   "name": "python3"
  },
  "language_info": {
   "codemirror_mode": {
    "name": "ipython",
    "version": 3
   },
   "file_extension": ".py",
   "mimetype": "text/x-python",
   "name": "python",
   "nbconvert_exporter": "python",
   "pygments_lexer": "ipython3",
   "version": "3.7.0"
  }
 },
 "nbformat": 4,
 "nbformat_minor": 2
}
